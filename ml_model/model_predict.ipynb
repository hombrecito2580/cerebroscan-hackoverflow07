{
 "cells": [
  {
   "cell_type": "markdown",
   "id": "99b4a100-fc04-40c5-b13b-7356c30c2aa7",
   "metadata": {},
   "source": [
    "1. Defining the predict function which takes the image path as input, loads the image and model, runs the prediction on it, and returns the predicted category of Brain Tumor:"
   ]
  },
  {
   "cell_type": "code",
   "execution_count": 1,
   "id": "ed1c0492-be5b-4f86-8bac-d8eb028e8353",
   "metadata": {},
   "outputs": [],
   "source": [
    "import os\n",
    "os.environ['TF_CPP_MIN_LOG_LEVEL'] = '2'  # hide warning messages\n",
    "import tensorflow as tf\n",
    "import numpy as np\n",
    "import cv2\n",
    "\n",
    "def predict_brain_tumor(img_path):\n",
    "    model = tf.keras.models.load_model('model.keras')\n",
    "    # performing necessary pre-processing\n",
    "    # this part was slightly modified during integration because the reading of the image was done using buffer instead of cv2\n",
    "    img = cv2.imread(img_path, cv2.IMREAD_GRAYSCALE)\n",
    "    img = cv2.resize(img,(168,168))\n",
    "    img = np.expand_dims(img, axis=-1)\n",
    "    img = img / 255.0\n",
    "    img = np.expand_dims(img, axis=0)\n",
    "    pred = model.predict(img)\n",
    "    predicted_class = np.argmax(pred)\n",
    "    brain_tumor = ['Pituitary', 'No Tumor', 'Glioma', 'Meningioma']\n",
    "    return brain_tumor[predicted_class]"
   ]
  },
  {
   "cell_type": "markdown",
   "id": "5ba3fbea-3a21-4b40-98ec-a9184d173f32",
   "metadata": {},
   "source": [
    "2. Passing some test images to check the output:"
   ]
  },
  {
   "cell_type": "code",
   "execution_count": 2,
   "id": "6a1ecda0-4b38-4350-a441-0a085bf1542b",
   "metadata": {},
   "outputs": [
    {
     "name": "stdout",
     "output_type": "stream",
     "text": [
      "Metal device set to: Apple M2\n",
      "1/1 [==============================] - 0s 130ms/step\n"
     ]
    },
    {
     "data": {
      "text/plain": [
       "'Glioma'"
      ]
     },
     "execution_count": 2,
     "metadata": {},
     "output_type": "execute_result"
    }
   ],
   "source": [
    "predict_brain_tumor('Testing/glioma/Te-gl_0018.jpg')"
   ]
  },
  {
   "cell_type": "code",
   "execution_count": 3,
   "id": "618b5c19-2746-4b7f-a8b7-478eec9a9cff",
   "metadata": {},
   "outputs": [
    {
     "name": "stdout",
     "output_type": "stream",
     "text": [
      "1/1 [==============================] - 0s 73ms/step\n"
     ]
    },
    {
     "data": {
      "text/plain": [
       "'No Tumor'"
      ]
     },
     "execution_count": 3,
     "metadata": {},
     "output_type": "execute_result"
    }
   ],
   "source": [
    "predict_brain_tumor('Testing/notumor/Te-no_0205.jpg')"
   ]
  },
  {
   "cell_type": "code",
   "execution_count": 4,
   "id": "dca8de85-f9a7-40f0-8fe1-cb90f27b151b",
   "metadata": {},
   "outputs": [
    {
     "name": "stdout",
     "output_type": "stream",
     "text": [
      "1/1 [==============================] - 0s 71ms/step\n"
     ]
    },
    {
     "data": {
      "text/plain": [
       "'Pituitary'"
      ]
     },
     "execution_count": 4,
     "metadata": {},
     "output_type": "execute_result"
    }
   ],
   "source": [
    "predict_brain_tumor('Testing/pituitary/Te-pi_0181.jpg')"
   ]
  },
  {
   "cell_type": "code",
   "execution_count": 5,
   "id": "96008be9-5549-41cb-8265-2045728bdf65",
   "metadata": {},
   "outputs": [
    {
     "name": "stdout",
     "output_type": "stream",
     "text": [
      "1/1 [==============================] - 0s 78ms/step\n"
     ]
    },
    {
     "data": {
      "text/plain": [
       "'Meningioma'"
      ]
     },
     "execution_count": 5,
     "metadata": {},
     "output_type": "execute_result"
    }
   ],
   "source": [
    "predict_brain_tumor('Testing/meningioma/Te-me_0047.jpg')"
   ]
  }
 ],
 "metadata": {
  "kernelspec": {
   "display_name": "Python 3 (ipykernel)",
   "language": "python",
   "name": "python3"
  },
  "language_info": {
   "codemirror_mode": {
    "name": "ipython",
    "version": 3
   },
   "file_extension": ".py",
   "mimetype": "text/x-python",
   "name": "python",
   "nbconvert_exporter": "python",
   "pygments_lexer": "ipython3",
   "version": "3.8.15"
  }
 },
 "nbformat": 4,
 "nbformat_minor": 5
}
