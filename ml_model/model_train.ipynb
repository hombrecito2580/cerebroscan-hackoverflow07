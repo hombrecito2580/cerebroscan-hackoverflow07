{
 "cells": [
  {
   "cell_type": "markdown",
   "id": "fa2b4572-044a-421f-b5cf-7cb3e5d26c54",
   "metadata": {},
   "source": [
    "1. Importing the necessary python libraries for training, testing and evaluation of model:"
   ]
  },
  {
   "cell_type": "code",
   "execution_count": 1,
   "id": "0b8d2536-798d-4644-97b3-01612c1a7e6e",
   "metadata": {},
   "outputs": [],
   "source": [
    "import os\n",
    "os.environ['TF_CPP_MIN_LOG_LEVEL'] = '2'  # hide warning messages\n",
    "\n",
    "import cv2\n",
    "import numpy as np\n",
    "import pandas as pd\n",
    "import tensorflow as tf\n",
    "import matplotlib.pyplot as plt\n",
    "import keras\n",
    "from tensorflow.keras.models import Sequential\n",
    "from tensorflow.keras.layers import Dense, Flatten, Dropout, Input, MaxPooling2D, Conv2D\n",
    "from tensorflow.keras.layers import RandomFlip, RandomRotation, RandomContrast, RandomZoom, RandomTranslation\n",
    "from keras.callbacks import ReduceLROnPlateau, ModelCheckpoint\n",
    "import random\n",
    "import seaborn as sns\n",
    "from sklearn.metrics import confusion_matrix, classification_report\n",
    "import pylab as pl"
   ]
  },
  {
   "cell_type": "markdown",
   "id": "0523ac03-f1e7-42ed-9aeb-7c67d48c3905",
   "metadata": {},
   "source": [
    "2. Loading the training images from folder and putting them in the pandas dataframe. We have 5712 images for training and they are categorised into 4 classes (given in the output of the below cell with the corresponding integer mapping):"
   ]
  },
  {
   "cell_type": "code",
   "execution_count": 2,
   "id": "606ffbb7-865b-4703-ab3e-aa98329c399b",
   "metadata": {},
   "outputs": [
    {
     "name": "stdout",
     "output_type": "stream",
     "text": [
      "pituitary : 0\n",
      "notumor : 1\n",
      "glioma : 2\n",
      "meningioma : 3\n",
      "<class 'pandas.core.frame.DataFrame'>\n",
      "RangeIndex: 5712 entries, 0 to 5711\n",
      "Data columns (total 2 columns):\n",
      " #   Column      Non-Null Count  Dtype \n",
      "---  ------      --------------  ----- \n",
      " 0   image_path  5712 non-null   object\n",
      " 1   target      5712 non-null   int64 \n",
      "dtypes: int64(1), object(1)\n",
      "memory usage: 89.4+ KB\n"
     ]
    }
   ],
   "source": [
    "path_train = 'Training/'  # main folder containing the subfolders for different types\n",
    "train_dictionary = {\"image_path\":[],\"target\":[]}\n",
    "type = 0\n",
    "for i in os.listdir(path_train):\n",
    "    train_img = path_train+i+'/'  # appending the subfolder path\n",
    "    if(os.path.isdir(train_img)):\n",
    "        for j in os.listdir(train_img):\n",
    "            train_dictionary[\"image_path\"].append(train_img+j)\n",
    "            train_dictionary[\"target\"].append(type)  # the integer 'type' is used as target variable\n",
    "        print(i, \":\", type)  # assigning a unique integer mapping to each type of tumor\n",
    "        type += 1\n",
    "train = pd.DataFrame(train_dictionary)\n",
    "train.info()"
   ]
  },
  {
   "cell_type": "markdown",
   "id": "e4500d3d-0967-4c07-956d-5c9c17699514",
   "metadata": {},
   "source": [
    "3. Loading the testing images from folder and putting them in the pandas dataframe. We have almost 1311 images for testing in the same format as the training images:"
   ]
  },
  {
   "cell_type": "code",
   "execution_count": 3,
   "id": "614c193a-a199-4a6f-b886-294fa8b363e7",
   "metadata": {},
   "outputs": [
    {
     "name": "stdout",
     "output_type": "stream",
     "text": [
      "pituitary : 0\n",
      "notumor : 1\n",
      "glioma : 2\n",
      "meningioma : 3\n",
      "<class 'pandas.core.frame.DataFrame'>\n",
      "RangeIndex: 1311 entries, 0 to 1310\n",
      "Data columns (total 2 columns):\n",
      " #   Column      Non-Null Count  Dtype \n",
      "---  ------      --------------  ----- \n",
      " 0   image_path  1311 non-null   object\n",
      " 1   target      1311 non-null   int64 \n",
      "dtypes: int64(1), object(1)\n",
      "memory usage: 20.6+ KB\n"
     ]
    }
   ],
   "source": [
    "path_test = 'Testing/'\n",
    "test_dictionary = {\"image_path\":[],\"target\":[]}\n",
    "type = 0\n",
    "for i in os.listdir(path_test):\n",
    "    test_img = path_test+i+'/'\n",
    "    if(os.path.isdir(test_img)):\n",
    "        for j in os.listdir(test_img):\n",
    "            test_dictionary[\"image_path\"].append(test_img+j)\n",
    "            test_dictionary[\"target\"].append(type)\n",
    "        print(i, \":\", type)\n",
    "        type += 1\n",
    "test = pd.DataFrame(test_dictionary)\n",
    "test.info()"
   ]
  },
  {
   "cell_type": "markdown",
   "id": "523c32d6-7946-4bbe-a7a5-2e797bdaedeb",
   "metadata": {},
   "source": [
    "4. Defining the Data Augmentation function with parameters to set random image properties:"
   ]
  },
  {
   "cell_type": "code",
   "execution_count": 4,
   "id": "52cfdbaf-0579-4513-923b-10ef66c2f0a6",
   "metadata": {},
   "outputs": [
    {
     "name": "stdout",
     "output_type": "stream",
     "text": [
      "Metal device set to: Apple M2\n"
     ]
    }
   ],
   "source": [
    "with tf.device('/cpu:0'):\n",
    "    data_augmentation = Sequential([\n",
    "        RandomFlip(\"horizontal\"),\n",
    "        RandomRotation(0.02, fill_mode='constant'),\n",
    "        RandomContrast(0.1),\n",
    "        RandomZoom(height_factor=0.01, width_factor=0.05),\n",
    "        RandomTranslation(height_factor=0.0015, width_factor=0.0015, fill_mode='constant'),\n",
    "    ])"
   ]
  },
  {
   "cell_type": "markdown",
   "id": "7208d6b8-f85e-4311-9f0a-2fa4877a350c",
   "metadata": {},
   "source": [
    "5. Converting the loaded images in the pandas train dataframe to grayscale numpy array with proper resizing and performing data augmentation once per image. Hence the train input and target label of the model is created:"
   ]
  },
  {
   "cell_type": "code",
   "execution_count": 5,
   "id": "16d83df8-c46e-48d1-8688-39dcc0539a12",
   "metadata": {},
   "outputs": [
    {
     "name": "stdout",
     "output_type": "stream",
     "text": [
      "(11424, 168, 168, 1)\n",
      "[2914. 3190. 2642. 2678.]\n"
     ]
    }
   ],
   "source": [
    "images = []  # numpy array contaning floating point pixel values of the training images\n",
    "for i in train[\"image_path\"]:\n",
    "    img = cv2.imread(i, cv2.IMREAD_GRAYSCALE)  # converting the RBG values to Grayscale to decrease dimensions of redundant data\n",
    "    img = cv2.resize(img,(168,168))  # resizing properly to compensate for the inconsistent dimensions of the images\n",
    "    img = np.expand_dims(img, axis=-1)  # adding an extra dimension to make it (168, 168, 1)\n",
    "    img_aug = data_augmentation(img)  # performing random augmentation once\n",
    "    img = img / 255.0  \n",
    "    img_aug = img_aug / 255.0\n",
    "    images.append(img)\n",
    "    images.append(img_aug)\n",
    "label = []\n",
    "label = train[\"target\"]\n",
    "x_train = np.array(images)\n",
    "label = np.array(label)\n",
    "label = np.repeat(label,2)  # compensate for the augmentation\n",
    "y_train = keras.utils.to_categorical(label, 4)  # convert to one-hot encoded target label\n",
    "print(x_train.shape)\n",
    "print(np.sum(y_train, axis=0))"
   ]
  },
  {
   "cell_type": "markdown",
   "id": "e22a0073-09de-49b0-ba05-30c0322b0321",
   "metadata": {},
   "source": [
    "6. Performing the same thing for the testing images but without augmentation since validation data is not augmented. Also we see in the previous output that the training dataset is not skewed so there is no need for any further data augmentation:"
   ]
  },
  {
   "cell_type": "code",
   "execution_count": 6,
   "id": "6dd1440b-6188-4ae7-b3d6-34440d29f667",
   "metadata": {},
   "outputs": [
    {
     "name": "stdout",
     "output_type": "stream",
     "text": [
      "(1311, 168, 168, 1)\n",
      "[300. 405. 300. 306.]\n"
     ]
    }
   ],
   "source": [
    "images = []\n",
    "for i in test[\"image_path\"]:\n",
    "    img = cv2.imread(i, cv2.IMREAD_GRAYSCALE)\n",
    "    img = cv2.resize(img,(168,168))\n",
    "    img = np.expand_dims(img, axis=-1)\n",
    "    img = img / 255.0\n",
    "    images.append(img)\n",
    "label = []\n",
    "label = test[\"target\"]\n",
    "x_test = np.array(images)\n",
    "label = np.array(label)\n",
    "y_test = keras.utils.to_categorical(label, 4)\n",
    "print(x_test.shape)\n",
    "print(np.sum(y_test, axis=0))"
   ]
  },
  {
   "cell_type": "markdown",
   "id": "b31de6bd-ed3b-49e4-9ce6-b6e039e685b0",
   "metadata": {},
   "source": [
    "7. Pre-trained state-of-the-art CNNs like VGG19, InceptionV3 or Xception were found to underfit the data due to their huge number of layers which was not necessary and yielded a validation accuracy of around 90-93%. Also it is computationally more expensive to load models having 100MB+ sizes due to RAM limitation on server. Hence the following custom CNN model was used which gives a validation accuracy of 97%:"
   ]
  },
  {
   "cell_type": "code",
   "execution_count": 7,
   "id": "ab751704-9b5b-43e0-bd7f-d3c7896c2202",
   "metadata": {},
   "outputs": [
    {
     "name": "stdout",
     "output_type": "stream",
     "text": [
      "Model: \"sequential_1\"\n",
      "_________________________________________________________________\n",
      " Layer (type)                Output Shape              Param #   \n",
      "=================================================================\n",
      " conv2d (Conv2D)             (None, 164, 164, 64)      1664      \n",
      "                                                                 \n",
      " max_pooling2d (MaxPooling2D  (None, 54, 54, 64)       0         \n",
      " )                                                               \n",
      "                                                                 \n",
      " conv2d_1 (Conv2D)           (None, 50, 50, 64)        102464    \n",
      "                                                                 \n",
      " max_pooling2d_1 (MaxPooling  (None, 16, 16, 64)       0         \n",
      " 2D)                                                             \n",
      "                                                                 \n",
      " conv2d_2 (Conv2D)           (None, 13, 13, 128)       131200    \n",
      "                                                                 \n",
      " max_pooling2d_2 (MaxPooling  (None, 6, 6, 128)        0         \n",
      " 2D)                                                             \n",
      "                                                                 \n",
      " conv2d_3 (Conv2D)           (None, 3, 3, 128)         262272    \n",
      "                                                                 \n",
      " max_pooling2d_3 (MaxPooling  (None, 1, 1, 128)        0         \n",
      " 2D)                                                             \n",
      "                                                                 \n",
      " flatten (Flatten)           (None, 128)               0         \n",
      "                                                                 \n",
      " dense (Dense)               (None, 512)               66048     \n",
      "                                                                 \n",
      " dropout (Dropout)           (None, 512)               0         \n",
      "                                                                 \n",
      " dense_1 (Dense)             (None, 64)                32832     \n",
      "                                                                 \n",
      " dropout_1 (Dropout)         (None, 64)                0         \n",
      "                                                                 \n",
      " dense_2 (Dense)             (None, 4)                 260       \n",
      "                                                                 \n",
      "=================================================================\n",
      "Total params: 596,740\n",
      "Trainable params: 596,740\n",
      "Non-trainable params: 0\n",
      "_________________________________________________________________\n"
     ]
    }
   ],
   "source": [
    "model = Sequential([\n",
    "    Input(shape=(168,168,1)),\n",
    "    # 4 Convolutional + MaxPooling layers\n",
    "    Conv2D(64, (5, 5), activation=\"relu\"),\n",
    "    MaxPooling2D(pool_size=(3, 3)),\n",
    "    Conv2D(64, (5, 5), activation=\"relu\"),\n",
    "    MaxPooling2D(pool_size=(3, 3)),\n",
    "    Conv2D(128, (4, 4), activation=\"relu\"),\n",
    "    MaxPooling2D(pool_size=(2, 2)),\n",
    "    Conv2D(128, (4, 4), activation=\"relu\"),\n",
    "    MaxPooling2D(pool_size=(2, 2)),\n",
    "    Flatten(),\n",
    "    # 2 Dense + Dropout layers to prevent overfitting\n",
    "    Dense(512, activation=\"relu\"),\n",
    "    Dropout(0.4),\n",
    "    Dense(64, activation=\"relu\"),\n",
    "    Dropout(0.25),\n",
    "    # Finally 1 Dense layer which num_classes = 4 and softmax activation\n",
    "    Dense(4, activation=\"softmax\")\n",
    "])\n",
    "model.summary()\n",
    "# This gives a model size of around 7 MB."
   ]
  },
  {
   "cell_type": "markdown",
   "id": "a0c998c9-0b14-4bd8-a029-9469a6b3edb8",
   "metadata": {},
   "source": [
    "8. The conventional Adam optimizer seemed to work fine for this model. Also, callbacks like Reduce LR On Plateau and Model Checkpoint were used to further increase the accuracy of the model:"
   ]
  },
  {
   "cell_type": "code",
   "execution_count": 8,
   "id": "9855eb87-7117-423a-9997-450df843e1ef",
   "metadata": {},
   "outputs": [
    {
     "name": "stdout",
     "output_type": "stream",
     "text": [
      "Epoch 1/10\n",
      "357/357 [==============================] - 37s 101ms/step - loss: 0.7915 - accuracy: 0.6689 - val_loss: 0.5340 - val_accuracy: 0.7742 - lr: 0.0010\n",
      "Epoch 2/10\n",
      "357/357 [==============================] - 35s 97ms/step - loss: 0.3501 - accuracy: 0.8695 - val_loss: 0.3268 - val_accuracy: 0.8696 - lr: 0.0010\n",
      "Epoch 3/10\n",
      "357/357 [==============================] - 35s 97ms/step - loss: 0.1982 - accuracy: 0.9296 - val_loss: 0.2594 - val_accuracy: 0.9108 - lr: 0.0010\n",
      "Epoch 4/10\n",
      "357/357 [==============================] - 34s 96ms/step - loss: 0.1280 - accuracy: 0.9567 - val_loss: 0.1613 - val_accuracy: 0.9367 - lr: 0.0010\n",
      "Epoch 5/10\n",
      "357/357 [==============================] - 34s 96ms/step - loss: 0.0859 - accuracy: 0.9718 - val_loss: 0.2038 - val_accuracy: 0.9268 - lr: 0.0010\n",
      "Epoch 6/10\n",
      "357/357 [==============================] - 34s 96ms/step - loss: 0.0632 - accuracy: 0.9794 - val_loss: 0.1512 - val_accuracy: 0.9451 - lr: 0.0010\n",
      "Epoch 7/10\n",
      "357/357 [==============================] - 37s 103ms/step - loss: 0.0624 - accuracy: 0.9796 - val_loss: 0.1049 - val_accuracy: 0.9703 - lr: 0.0010\n",
      "Epoch 8/10\n",
      "357/357 [==============================] - 42s 118ms/step - loss: 0.0448 - accuracy: 0.9849 - val_loss: 0.0772 - val_accuracy: 0.9779 - lr: 0.0010\n",
      "Epoch 9/10\n",
      "357/357 [==============================] - 43s 120ms/step - loss: 0.0439 - accuracy: 0.9852 - val_loss: 0.0950 - val_accuracy: 0.9695 - lr: 0.0010\n",
      "Epoch 10/10\n",
      "357/357 [==============================] - 42s 118ms/step - loss: 0.0361 - accuracy: 0.9885 - val_loss: 0.0829 - val_accuracy: 0.9718 - lr: 0.0010\n"
     ]
    }
   ],
   "source": [
    "model.compile(optimizer = 'adam',\n",
    "              loss = 'categorical_crossentropy',\n",
    "              metrics = ['accuracy'])\n",
    "reduce_lr = ReduceLROnPlateau(monitor='val_loss', factor=0.2, patience=3, min_lr=1e-5)\n",
    "model_mc = ModelCheckpoint('model.keras', monitor='val_accuracy', mode='max', save_best_only=True)\n",
    "with tf.device('/gpu:0'):\n",
    "    history = model.fit(\n",
    "        x_train,\n",
    "        y_train,\n",
    "        batch_size = 32,\n",
    "        epochs = 10,\n",
    "        validation_data = (x_test, y_test), # the testing data was used for validation instead of splitting the train dataset\n",
    "        shuffle = True,\n",
    "        callbacks = [reduce_lr, model_mc]\n",
    "    )"
   ]
  },
  {
   "cell_type": "markdown",
   "id": "77564b52-1816-4067-9799-dc71781f46af",
   "metadata": {},
   "source": [
    "9. The final predicted values for the test data were generated using CPU to check the versatility of the model:"
   ]
  },
  {
   "cell_type": "code",
   "execution_count": 9,
   "id": "2163c551-69e0-4c0f-ba39-244852c6a03e",
   "metadata": {},
   "outputs": [
    {
     "name": "stdout",
     "output_type": "stream",
     "text": [
      "41/41 [==============================] - 5s 127ms/step\n",
      "[0 0 0 ... 3 3 3]\n",
      "[0 0 0 ... 3 3 3]\n"
     ]
    }
   ],
   "source": [
    "with tf.device('/cpu:0'):\n",
    "    y_pred = model.predict(x_test)\n",
    "y_pred2 = np.argmax(y_pred, axis=1)\n",
    "print(y_pred2)  # predicted target values\n",
    "y_test = np.argmax(y_test, axis=1)\n",
    "print(y_test)  # original target values"
   ]
  },
  {
   "cell_type": "markdown",
   "id": "56ca2455-566c-4c78-aff7-06952ab20b50",
   "metadata": {},
   "source": [
    "10. Evaluating the performance of the model using Accuracy and Loss values (which turn out to be pretty consistent and even, indicating proper training of model while maintaining generalization):"
   ]
  },
  {
   "cell_type": "code",
   "execution_count": 10,
   "id": "e1fb2aae-aaec-492b-a0e2-e0b412482252",
   "metadata": {},
   "outputs": [
    {
     "data": {
      "text/plain": [
       "<matplotlib.legend.Legend at 0x16ab6a100>"
      ]
     },
     "execution_count": 10,
     "metadata": {},
     "output_type": "execute_result"
    },
    {
     "data": {
      "image/png": "[encoded data removed]",
      "text/plain": [
       "<Figure size 1200x400 with 2 Axes>"
      ]
     },
     "metadata": {},
     "output_type": "display_data"
    }
   ],
   "source": [
    "train_accuracy = history.history['accuracy']\n",
    "val_accuracy = history.history['val_accuracy']\n",
    "train_loss = history.history['loss']\n",
    "val_loss = history.history['val_loss']\n",
    "epochs = range(len(train_accuracy))\n",
    "plt.figure(figsize=(12,4))\n",
    "plt.subplot(1,2,1)\n",
    "plt.plot(epochs, train_accuracy, 'b', label='Training accuracy')\n",
    "plt.plot(epochs, val_accuracy, 'r', label='Validation accuracy')\n",
    "plt.title('Accuracy')\n",
    "plt.xlabel('Epoch')\n",
    "plt.ylabel('Accuracy')\n",
    "plt.legend(['train', 'val'], loc='lower right')\n",
    "plt.subplot(1,2,2)\n",
    "plt.plot(epochs, train_loss, 'b', label='Training loss')\n",
    "plt.plot(epochs, val_loss, 'r', label='Validation loss')\n",
    "plt.title('Loss')\n",
    "plt.xlabel('Epoch')\n",
    "plt.ylabel('Loss')\n",
    "plt.legend(['train', 'val'], loc='upper right')"
   ]
  },
  {
   "cell_type": "markdown",
   "id": "fe0821da-8eda-4ee6-bba8-5c3ebe8d0a4e",
   "metadata": {},
   "source": [
    "11. Finally we plot the confusion matrix and F1-score of the model:"
   ]
  },
  {
   "cell_type": "code",
   "execution_count": 11,
   "id": "36ad4a36-34c9-4085-b1ec-9d50f14a9a5e",
   "metadata": {},
   "outputs": [
    {
     "data": {
      "image/png": "[encoded data removed]",
      "text/plain": [
       "<Figure size 640x480 with 2 Axes>"
      ]
     },
     "metadata": {},
     "output_type": "display_data"
    },
    {
     "name": "stdout",
     "output_type": "stream",
     "text": [
      "              precision    recall  f1-score   support\n",
      "\n",
      "           0       0.98      0.98      0.98       300\n",
      "           1       0.99      1.00      0.99       405\n",
      "           2       0.93      0.99      0.96       300\n",
      "           3       0.99      0.91      0.95       306\n",
      "\n",
      "    accuracy                           0.97      1311\n",
      "   macro avg       0.97      0.97      0.97      1311\n",
      "weighted avg       0.97      0.97      0.97      1311\n",
      "\n"
     ]
    }
   ],
   "source": [
    "confusion_matrix_result = confusion_matrix(y_test, y_pred2)\n",
    "plt.title(\"Brain Tumor Classification\")\n",
    "ax = plt.subplot()\n",
    "sns.heatmap(confusion_matrix_result, annot=True, fmt='g', ax=ax);\n",
    "pl.show()\n",
    "confusion_matrix = classification_report(y_test,y_pred2)\n",
    "print(confusion_matrix)"
   ]
  }
 ],
 "metadata": {
  "kernelspec": {
   "display_name": "Python 3 (ipykernel)",
   "language": "python",
   "name": "python3"
  },
  "language_info": {
   "codemirror_mode": {
    "name": "ipython",
    "version": 3
   },
   "file_extension": ".py",
   "mimetype": "text/x-python",
   "name": "python",
   "nbconvert_exporter": "python",
   "pygments_lexer": "ipython3",
   "version": "3.8.15"
  }
 },
 "nbformat": 4,
 "nbformat_minor": 5
}
